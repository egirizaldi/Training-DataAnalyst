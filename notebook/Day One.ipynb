{
  "cells": [
    {
      "cell_type": "code",
      "execution_count": 5,
      "id": "82469a14",
      "metadata": {
        "colab": {
          "base_uri": "https://localhost:8080/"
        },
        "id": "82469a14",
        "outputId": "2dc8f63e-cca1-4dcd-d612-0aeea591dedd"
      },
      "outputs": [
        {
          "output_type": "stream",
          "name": "stdout",
          "text": [
            "File asli dari GitHub:\n",
            "   OrderID        Date     Product     Category  Quantity  Price Customer  \\\n",
            "0     1001  2025-01-05      Laptop  Electronics         2  750.0      Egi   \n",
            "1     1002  2025-01-06       Mouse  Electronics         5   25.0    Rizal   \n",
            "2     1003  2025-01-07        Desk    Furniture         1  200.0     Andi   \n",
            "3     1004  2025-01-08       Chair    Furniture         3   85.0     Siti   \n",
            "4     1005  2025-01-09  Headphones  Electronics         4   60.0     Budi   \n",
            "\n",
            "     Region  \n",
            "0   Jakarta  \n",
            "1   Bandung  \n",
            "2  Surabaya  \n",
            "3   Jakarta  \n",
            "4     Medan  \n",
            "✅ File duplikat berhasil dibuat: sales_data_v2.csv\n"
          ]
        }
      ],
      "source": [
        "import pandas as pd\n",
        "\n",
        "# Baca CSV dari GitHub\n",
        "url = \"https://raw.githubusercontent.com/egirizaldi/Training-DataAnalyst/main/data/sales_data.csv\"\n",
        "df = pd.read_csv(url)\n",
        "print(\"File asli dari GitHub:\")\n",
        "print(df.head())\n",
        "\n",
        "# Buat duplikat dataframe\n",
        "df_copy = df.copy()\n",
        "\n",
        "# Contoh ubah data di duplikat (misal tambah kolom)\n",
        "df_copy[\"TotalPrice\"] = df_copy[\"Quantity\"] * df_copy[\"Price\"]\n",
        "\n",
        "# Simpan versi duplikat di Colab\n",
        "df_copy.to_csv(\"sales_data_v2.csv\", index=False)\n",
        "\n"
      ]
    }
  ],
  "metadata": {
    "kernelspec": {
      "display_name": "venv",
      "language": "python",
      "name": "python3"
    },
    "language_info": {
      "codemirror_mode": {
        "name": "ipython",
        "version": 3
      },
      "file_extension": ".py",
      "mimetype": "text/x-python",
      "name": "python",
      "nbconvert_exporter": "python",
      "pygments_lexer": "ipython3",
      "version": "3.13.9"
    },
    "colab": {
      "provenance": []
    }
  },
  "nbformat": 4,
  "nbformat_minor": 5
}